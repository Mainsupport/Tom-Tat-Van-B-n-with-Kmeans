{
 "cells": [
  {
   "cell_type": "code",
   "execution_count": 29,
   "metadata": {},
   "outputs": [],
   "source": [
    "import pickle\n",
    "import numpy as np\n",
    "from pyvi import ViTokenizer"
   ]
  },
  {
   "cell_type": "code",
   "execution_count": 32,
   "metadata": {},
   "outputs": [
    {
     "name": "stdout",
     "output_type": "stream",
     "text": [
      "Rạp phim, quán nhậu, quán cóc đều được trở lại hoạt động bình thường, nhưng những cơ sở như gym và yoga vẫn đang tạm dừng vì được xem là nơi dễ lây lan dịch Covid-19. Cùng là những nơi công cộng, tụ tập đông người, nhưng một môi trường rèn luyện thể thao, nâng cao sức khỏe lại chưa có dấu hiệu mở lại. Thật khó hiểu\", Hoàng Duy (24 tuổi, TP.HCM) - một người thường xuyên tập luyện tại các phòng gym chia sẻ với Zing.\n"
     ]
    }
   ],
   "source": [
    "#Load\n",
    "with open ('text5.pkl', 'rb') as fp:\n",
    "    contents = pickle.load(fp)\n",
    "print(contents[5])"
   ]
  },
  {
   "cell_type": "code",
   "execution_count": 33,
   "metadata": {},
   "outputs": [
    {
     "name": "stdout",
     "output_type": "stream",
     "text": [
      "rạp phim, quán nhậu, quán cóc đều được trở lại hoạt động bình thường, nhưng những cơ sở như gym và yoga vẫn đang tạm dừng vì được xem là nơi dễ lây lan dịch covid-19. cùng là những nơi công cộng, tụ tập đông người, nhưng một môi trường rèn luyện thể thao, nâng cao sức khỏe lại chưa có dấu hiệu mở lại. thật khó hiểu\", hoàng duy (24 tuổi, tp.hcm) - một người thường xuyên tập luyện tại các phòng gym chia sẻ với zing.\n"
     ]
    }
   ],
   "source": [
    "contents_parsed = contents[5]\n",
    "print(contents_parsed.lower().strip())"
   ]
  },
  {
   "cell_type": "code",
   "execution_count": 34,
   "metadata": {},
   "outputs": [
    {
     "name": "stderr",
     "output_type": "stream",
     "text": [
      "[nltk_data] Downloading package punkt to\n",
      "[nltk_data]     C:\\Users\\main\\AppData\\Roaming\\nltk_data...\n",
      "[nltk_data]   Package punkt is already up-to-date!\n"
     ]
    },
    {
     "data": {
      "text/plain": [
       "True"
      ]
     },
     "execution_count": 34,
     "metadata": {},
     "output_type": "execute_result"
    }
   ],
   "source": [
    "import nltk\n",
    "nltk.download('punkt')"
   ]
  },
  {
   "cell_type": "code",
   "execution_count": 35,
   "metadata": {},
   "outputs": [],
   "source": [
    "sentences = nltk.sent_tokenize(contents_parsed.lower().strip())"
   ]
  },
  {
   "cell_type": "code",
   "execution_count": 36,
   "metadata": {},
   "outputs": [
    {
     "name": "stdout",
     "output_type": "stream",
     "text": [
      "['rạp phim, quán nhậu, quán cóc đều được trở lại hoạt động bình thường, nhưng những cơ sở như gym và yoga vẫn đang tạm dừng vì được xem là nơi dễ lây lan dịch covid-19.', 'cùng là những nơi công cộng, tụ tập đông người, nhưng một môi trường rèn luyện thể thao, nâng cao sức khỏe lại chưa có dấu hiệu mở lại.', 'thật khó hiểu\", hoàng duy (24 tuổi, tp.hcm) - một người thường xuyên tập luyện tại các phòng gym chia sẻ với zing.']\n"
     ]
    }
   ],
   "source": [
    "print(sentences)"
   ]
  },
  {
   "cell_type": "code",
   "execution_count": 37,
   "metadata": {},
   "outputs": [],
   "source": [
    "from gensim.models import KeyedVectors \n",
    "\n",
    "w2v = KeyedVectors.load_word2vec_format(\"vi.vec\")"
   ]
  },
  {
   "cell_type": "code",
   "execution_count": 38,
   "metadata": {},
   "outputs": [
    {
     "name": "stderr",
     "output_type": "stream",
     "text": [
      "<ipython-input-38-e4dfc2436b2a>:1: DeprecationWarning: Call to deprecated `wv` (Attribute will be removed in 4.0.0, use self instead).\n",
      "  vocab = w2v.wv.vocab\n"
     ]
    }
   ],
   "source": [
    "vocab = w2v.wv.vocab"
   ]
  },
  {
   "cell_type": "code",
   "execution_count": 39,
   "metadata": {},
   "outputs": [
    {
     "name": "stderr",
     "output_type": "stream",
     "text": [
      "<ipython-input-39-1582200a37d4>:8: DeprecationWarning: Call to deprecated `wv` (Attribute will be removed in 4.0.0, use self instead).\n",
      "  sentence_vec+=w2v.wv[word]\n"
     ]
    }
   ],
   "source": [
    "X = []\n",
    "for sentence in sentences:\n",
    "    sentence = ViTokenizer.tokenize(sentence)\n",
    "    words = sentence.split(\" \")\n",
    "    sentence_vec = np.zeros((100))\n",
    "    for word in words:\n",
    "        if word in vocab:\n",
    "            sentence_vec+=w2v.wv[word]\n",
    "    X.append(sentence_vec)"
   ]
  },
  {
   "cell_type": "code",
   "execution_count": 41,
   "metadata": {},
   "outputs": [],
   "source": [
    "from sklearn.cluster import KMeans\n",
    "\n",
    "n_clusters = 2\n",
    "kmeans = KMeans(n_clusters=n_clusters)\n",
    "kmeans = kmeans.fit(X)"
   ]
  },
  {
   "cell_type": "code",
   "execution_count": 42,
   "metadata": {},
   "outputs": [],
   "source": [
    "from sklearn.metrics import pairwise_distances_argmin_min\n",
    "\n",
    "avg = []\n",
    "for j in range(n_clusters):\n",
    "    idx = np.where(kmeans.labels_ == j)[0]\n",
    "    avg.append(np.mean(idx))\n",
    "closest, _ = pairwise_distances_argmin_min(kmeans.cluster_centers_, X)\n",
    "ordering = sorted(range(n_clusters), key=lambda k: avg[k])\n",
    "summary = ' '.join([sentences[closest[idx]] for idx in ordering])"
   ]
  },
  {
   "cell_type": "code",
   "execution_count": 43,
   "metadata": {},
   "outputs": [
    {
     "data": {
      "text/plain": [
       "'cùng là những nơi công cộng, tụ tập đông người, nhưng một môi trường rèn luyện thể thao, nâng cao sức khỏe lại chưa có dấu hiệu mở lại. thật khó hiểu\", hoàng duy (24 tuổi, tp.hcm) - một người thường xuyên tập luyện tại các phòng gym chia sẻ với zing.'"
      ]
     },
     "execution_count": 43,
     "metadata": {},
     "output_type": "execute_result"
    }
   ],
   "source": [
    "summary"
   ]
  },
  {
   "cell_type": "code",
   "execution_count": null,
   "metadata": {},
   "outputs": [],
   "source": []
  },
  {
   "cell_type": "code",
   "execution_count": null,
   "metadata": {},
   "outputs": [],
   "source": []
  }
 ],
 "metadata": {
  "kernelspec": {
   "display_name": "Python 3",
   "language": "python",
   "name": "python3"
  },
  "language_info": {
   "codemirror_mode": {
    "name": "ipython",
    "version": 3
   },
   "file_extension": ".py",
   "mimetype": "text/x-python",
   "name": "python",
   "nbconvert_exporter": "python",
   "pygments_lexer": "ipython3",
   "version": "3.8.5"
  }
 },
 "nbformat": 4,
 "nbformat_minor": 2
}
